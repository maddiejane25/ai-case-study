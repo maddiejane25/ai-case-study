{
 "cells": [
  {
   "cell_type": "markdown",
   "id": "0fdaa72a-81cd-4241-92f6-6aa607cf40c1",
   "metadata": {},
   "source": [
    "# Your life in playlists: Spotify’s AI-generated Daylist \n",
    "\n",
    "## Overview and Origin\n",
    "\n",
    "[Spotify](https://open.spotify.com/) was launched in 2008 in the UK by Daniel Ek and Martin Lorentzon. The company was founded during the fall of illegally downloaded music and piracy and was developed as a growing, legal, listening catalog of copyrighted content. Since 2013, Spotify has acquired AI companies to keep up with the evolving music market and user tools. The Spotify Daylist was introduced in 2023 and is a popular feature of the app.<sup> 1 </sup>\n",
    "\n",
    "The company went public in April 2018 using a direct public offering, a less common method of going public, and now runs on a freemium business model. Users can enjoy free basic features with advertisements or premium access; 87% of Spotify users enjoy added features with a paid subscription. AI tools have been adopted into the platform to provide personalized music playlists and to introduce new music to listeners.<sup> 2 </sup>\n",
    "\n",
    "## Business Activities\n",
    "\n",
    "At the time of its inception, Spotify provided a source for a large, searchable online music catalog, providing legal access to music without having to download song by song. Today, it’s grown into the largest collection of diverse music, podcasts, and audiobooks. The introduction of AI-generated, personalized playlists sets the company apart from its competitors. \n",
    "\n",
    "One of the most popular AI-generated playlists is the Daylist, a-three times a day mixtape based on algorithms trained by users listening habits. Reinforcement learning is employed to fine tune these models and make them hyper-personalized. It has a creative name and takes into consideration time of day, mood, and even the weather. Spotify uses machine learning that is trained on thousands of descriptors for songs and genres that create a creative title for each playlist.<sup> 3 </sup>\n",
    "\n",
    "The intended Spotify customer is anyone who is streaming music. The target audience trends towards Millennials and GenZ and most users are in the United States, Europe and Latin America. Because of the global nature of the company, the audience continues to be diverse and users benefit heavily from the personalization features.<sup> 4 </sup>\n",
    "\n",
    "Spotify has the largest amount of music, podcasts, and audiobooks on one platform.  They’ve gained the unfair advantage as the leader, almost the monopoly, of streaming services. They’ve succeeded because of their efforts to grow to lead in personalization, especially using AI technology. These features have become even more popular because of Spotify’s ties with social media sits for easy interfacing. \n",
    "\n",
    "Spotify uses a few machine-learning tools to work in the TensorFlow ecosystem. Kubeflow provides an open-source platform to develop and deploy ML tools. Jukebox aids in feature engineering and management workflow, while Salem streamlines model serving and production workflow. Klio supports audio processing with Apache Beam and Dataflow. In addition, Spotify has built its own ML network, called ML Home, to continue to lead ML innovation in the streaming industry.<sup> 5 </sup> \n",
    "\n",
    "## Landscape\n",
    "\n",
    "Spotify leads the field of music streaming services. In the past 5-10 years, the addition of AI tools for personalization has exponentially improved the user experience and set Spotify apart from its competitors. The AI innovation started with the acquisition of other companies such as Sonantic, Echo Nest, and Tunigo, but has not stopped Spotify from building in-house machine learning models to further innovation.<sup> 6 </sup> Spotify’s competitors include Amazon Music, Apple Music, and YouTube Music. Although the sound quality is argued to be better on other platforms, Spotify leads the field in users, databases, and personalization. \n",
    "\n",
    "## Results\n",
    "\n",
    "Spotify has become the most popular music streaming service in the world with over 626 million users in 180 markets. Some of the core metrics the streaming industry uses to mark success are monthly listeners, streams, and time spent listening. Monthly listeners on this platform are broken up into free and paid users. Spotify leads the market in these metrics. The introduction of Spotify Wrapped, a once-a-year curated playlist, encouraged users to continue their paid memberships with a fun, personalized mixtape.  The company continues to find innovative ways, like the Daylist, to continue to engage with their users on a more frequent basis, encouraging them to log in multiple times a day to see their new personalized product. The other major competitors are Apple Music, Amazon Music, and YouTube Music.<sup> 7 </sup>\n",
    "\n",
    "## Recommendations\n",
    "\n",
    "The daylist is a fun and evolving music playlist. One of the most entertaining parts is the title the algorithm gives the playlist, which pulls from the habits of the listener, the time of day, and even the weather. To add to this title, Spotify could use AI image generation to provide cover art for the created playlist. This addition would benefit the company by adding entertainment and social media value to the already popular product. Because AI image generation is not a new technology, they could implement an already existing product like [DeepAI](https://deepai.org/). This type of model is appropriate for the solution because image generators use text prompts to create images and would be easy to input the name of the daylist into the generator. In the examples below, DeepAI generated this image from the name of the creative playlist names “chill hip hop rhymes Saturday morning\" and \"divorced dad rock teen angst Thursday morning\".\n",
    "\n",
    "![man sitting on the ground listening to music](https://images.deepai.org/art-image/8375bca432d940039c542bcad5341db5/chill-hip-hop-rhymes-saturday-morning.jpg)\n",
    "\n",
    "![dad sitting with his children, looking forlorn](https://api.deepai.org/job-view-file/45248e19-eba0-494d-aaeb-dbf6b46c1716/outputs/output.jpg?art-image=true)\n",
    "\n",
    "# References\n",
    " <sup> 1 </sup> Brown M. (updated 20 April 2023) *How Spotify Turned Free Music into a $10+ Billion Valuation* https://growthhackers.com/growth-studies/spotify/#respond\n",
    " \n",
    " <sup> 2 </sup> Jaffe M, Rodgers G, Gutierrez H. (5 July 2018) *Spotify Case Study: Structuring and Executing a Direct Listing* https://corpgov.law.harvard.edu/2018/07/05/spotify-case-study-structuring-and-executing-a-direct-listing/\n",
    "\n",
    " <sup> 3 </sup> Rojas F. (24 January 2024) *That Spotify Daylist That Really 'Gets' You? It Was Written by AI* New York Times. https://www.nytimes.com/2024/01/24/style/ai-spotify-music-playlist-algorithm.html\n",
    " \n",
    " <sup> 4 </sup> Li N. (24 April 2023) *The Soundtrack to Growth: A Spotify Marketing Case Study* https://nogood.io/2023/04/24/spotify-case-study/\n",
    " \n",
    " <sup> 5 </sup> Lopa M. (19 January 2022) *Product Lessons from ML Home: Spotify’s One-Stop Shop for Machine Learning* https://engineering.atspotify.com/2022/01/product-lessons-from-ml-home-spotifys-one-stop-shop-for-machine-learning/\n",
    "\n",
    " <sup> 7 </sup> Kaput M. (26 January 2024) *How Spotify Uses AI (And What You Can Learn from It)* https://www.marketingaiinstitute.com/blog/spotify-artificial-intelligence\n",
    "\n",
    "  <sup> 7 </sup> https://newsroom.spotify.com/company-info/#:~:text=We%20are%20the%20world's%20most,in%20more%20than%20180%20markets.\n",
    " \n",
    "\n",
    "\n"
   ]
  },
  {
   "cell_type": "code",
   "execution_count": null,
   "id": "f1898f14-c684-4247-8ee5-7daefde00979",
   "metadata": {},
   "outputs": [],
   "source": []
  }
 ],
 "metadata": {
  "kernelspec": {
   "display_name": "Python 3 (ipykernel)",
   "language": "python",
   "name": "python3"
  },
  "language_info": {
   "codemirror_mode": {
    "name": "ipython",
    "version": 3
   },
   "file_extension": ".py",
   "mimetype": "text/x-python",
   "name": "python",
   "nbconvert_exporter": "python",
   "pygments_lexer": "ipython3",
   "version": "3.12.4"
  }
 },
 "nbformat": 4,
 "nbformat_minor": 5
}
